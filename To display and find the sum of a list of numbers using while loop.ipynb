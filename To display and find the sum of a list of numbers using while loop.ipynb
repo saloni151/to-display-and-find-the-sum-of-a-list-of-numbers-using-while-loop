{
 "cells": [
  {
   "cell_type": "markdown",
   "id": "469af67b-1cb3-4cd1-92c8-d0ee385a1bdf",
   "metadata": {},
   "source": [
    "**Write a python program to display and find the sum of a list of numbers using while loop**"
   ]
  },
  {
   "cell_type": "code",
   "execution_count": 1,
   "id": "45c07055-b5dd-4e22-a537-7cd54a526566",
   "metadata": {},
   "outputs": [],
   "source": [
    "\n",
    "list=[5,55,66,6,565,656,2,9]"
   ]
  },
  {
   "cell_type": "code",
   "execution_count": 4,
   "id": "a488980b-e367-46a7-b023-50ae37255404",
   "metadata": {},
   "outputs": [
    {
     "data": {
      "text/plain": [
       "8"
      ]
     },
     "execution_count": 4,
     "metadata": {},
     "output_type": "execute_result"
    }
   ],
   "source": [
    "len(list)"
   ]
  },
  {
   "cell_type": "code",
   "execution_count": 2,
   "id": "9178c6f5-41c0-404c-a3ba-6e043227c261",
   "metadata": {},
   "outputs": [],
   "source": [
    "sum=0\n",
    "i=0"
   ]
  },
  {
   "cell_type": "code",
   "execution_count": 3,
   "id": "2cf815c3-3b43-46bb-91ff-9272d869ed6a",
   "metadata": {},
   "outputs": [
    {
     "name": "stdout",
     "output_type": "stream",
     "text": [
      "5\n",
      "55\n",
      "66\n",
      "6\n",
      "565\n",
      "656\n",
      "2\n",
      "9\n",
      "The total sum of numbers present in the list is equal to 1364 \n"
     ]
    }
   ],
   "source": [
    "while(i<len(list)):\n",
    "    print(list[i])\n",
    "    sum=sum+list[i]\n",
    "    i=i+1\n",
    "print(\"The total sum of numbers present in the list is equal to {} \".format(sum))"
   ]
  },
  {
   "cell_type": "code",
   "execution_count": null,
   "id": "091a0f94-50dd-46a0-b81e-ed398a0bdf16",
   "metadata": {},
   "outputs": [],
   "source": []
  },
  {
   "cell_type": "code",
   "execution_count": null,
   "id": "a44de6ee-5197-417b-b77a-ce8f2c3ad366",
   "metadata": {},
   "outputs": [],
   "source": []
  },
  {
   "cell_type": "code",
   "execution_count": null,
   "id": "5f1fda14-bd85-4a9d-9310-1387410ccbd0",
   "metadata": {},
   "outputs": [],
   "source": []
  },
  {
   "cell_type": "code",
   "execution_count": null,
   "id": "4021d539-5afb-4da0-ac18-743e4f52120c",
   "metadata": {},
   "outputs": [],
   "source": []
  },
  {
   "cell_type": "code",
   "execution_count": null,
   "id": "cbba8b8c-1430-45c6-b5b6-28edfb877333",
   "metadata": {},
   "outputs": [],
   "source": []
  },
  {
   "cell_type": "code",
   "execution_count": null,
   "id": "1c404650-d32c-4393-b0e6-99631a9c9425",
   "metadata": {},
   "outputs": [],
   "source": []
  },
  {
   "cell_type": "code",
   "execution_count": null,
   "id": "b1c91784-ad4c-4fff-84be-3826c436c88d",
   "metadata": {},
   "outputs": [],
   "source": []
  },
  {
   "cell_type": "code",
   "execution_count": null,
   "id": "e6838e59-98ec-4ac7-9eb1-0413308a25e3",
   "metadata": {},
   "outputs": [],
   "source": []
  },
  {
   "cell_type": "code",
   "execution_count": null,
   "id": "afe98357-35e3-4421-a40e-95263a4fac4a",
   "metadata": {},
   "outputs": [],
   "source": []
  },
  {
   "cell_type": "code",
   "execution_count": null,
   "id": "7218c875-3db1-48e3-b660-850637bc6a02",
   "metadata": {},
   "outputs": [],
   "source": []
  },
  {
   "cell_type": "code",
   "execution_count": null,
   "id": "1e460f7d-a992-4a17-97ac-f2cae651d264",
   "metadata": {},
   "outputs": [],
   "source": []
  },
  {
   "cell_type": "code",
   "execution_count": null,
   "id": "e5fa03cf-5d82-4063-af23-6b41c4b8d463",
   "metadata": {},
   "outputs": [],
   "source": []
  },
  {
   "cell_type": "code",
   "execution_count": null,
   "id": "6366fa6c-057d-4316-9308-35541804a040",
   "metadata": {},
   "outputs": [],
   "source": []
  },
  {
   "cell_type": "code",
   "execution_count": null,
   "id": "76b7c855-9c85-4d4f-830c-1b931e011630",
   "metadata": {},
   "outputs": [],
   "source": []
  },
  {
   "cell_type": "code",
   "execution_count": null,
   "id": "c446c390-caa4-4306-811d-6750d4e4b156",
   "metadata": {},
   "outputs": [],
   "source": []
  },
  {
   "cell_type": "code",
   "execution_count": null,
   "id": "2793162d-f42a-4bab-b6aa-41a68e85dfb2",
   "metadata": {},
   "outputs": [],
   "source": []
  }
 ],
 "metadata": {
  "kernelspec": {
   "display_name": "Python 3 (ipykernel)",
   "language": "python",
   "name": "python3"
  },
  "language_info": {
   "codemirror_mode": {
    "name": "ipython",
    "version": 3
   },
   "file_extension": ".py",
   "mimetype": "text/x-python",
   "name": "python",
   "nbconvert_exporter": "python",
   "pygments_lexer": "ipython3",
   "version": "3.12.7"
  }
 },
 "nbformat": 4,
 "nbformat_minor": 5
}
